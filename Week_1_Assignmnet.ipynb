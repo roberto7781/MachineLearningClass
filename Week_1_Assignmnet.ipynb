{
  "nbformat": 4,
  "nbformat_minor": 0,
  "metadata": {
    "colab": {
      "name": "Week 1 Assignmnet.ipynb",
      "provenance": [],
      "collapsed_sections": [],
      "authorship_tag": "ABX9TyO5yBvWQsvnf/l+j+Ud9zYE"
    },
    "kernelspec": {
      "name": "python3",
      "display_name": "Python 3"
    }
  },
  "cells": [
    {
      "cell_type": "code",
      "metadata": {
        "id": "D7VDdhfss3kt"
      },
      "source": [
        "#Importing the Needed Library\r\n",
        "\r\n",
        "import pandas as pd"
      ],
      "execution_count": 32,
      "outputs": []
    },
    {
      "cell_type": "code",
      "metadata": {
        "colab": {
          "base_uri": "https://localhost:8080/"
        },
        "id": "uPLlNC06tMXZ",
        "outputId": "591ad9a8-d82c-4990-8b03-e8a1978773c0"
      },
      "source": [
        "#Importing Data From the CSV File\r\n",
        "\r\n",
        "data = pd.read_csv(\"listings.csv\")\r\n",
        "print(data)"
      ],
      "execution_count": 30,
      "outputs": [
        {
          "output_type": "stream",
          "text": [
            "            id  ... availability_365\n",
            "0        49091  ...              365\n",
            "1        50646  ...              365\n",
            "2        56334  ...              365\n",
            "3        71609  ...              353\n",
            "4        71896  ...              355\n",
            "...        ...  ...              ...\n",
            "7902  38105126  ...               61\n",
            "7903  38108273  ...              365\n",
            "7904  38109336  ...              173\n",
            "7905  38110493  ...               30\n",
            "7906  38112762  ...              365\n",
            "\n",
            "[7907 rows x 16 columns]\n"
          ],
          "name": "stdout"
        }
      ]
    },
    {
      "cell_type": "code",
      "metadata": {
        "colab": {
          "base_uri": "https://localhost:8080/"
        },
        "id": "c6RFYaHshqMj",
        "outputId": "9d7083cf-63c6-432d-96d3-0ed84b601abd"
      },
      "source": [
        "#First Question\r\n",
        "\r\n",
        "#This function is used to find the maximum value of the data. \r\n",
        "#Axis=0 indicates that it will find the maximum of each column by searching all the row\r\n",
        "maxValue = data.max(axis = 0)\r\n",
        "print(\"- Maximum -\\n\")\r\n",
        "print(\"All data: \\n\", maxValue)\r\n",
        "\r\n",
        "#This function is used to find the minimum value of the data. \r\n",
        "#Axis=0 indicates that it will find the minimum of each column by searching all the row\r\n",
        "minValue = data.min()\r\n",
        "print(\"\\n\\n- Minimum -\\n\")\r\n",
        "print(\"All data: \\n\", minValue)\r\n"
      ],
      "execution_count": 29,
      "outputs": [
        {
          "output_type": "stream",
          "text": [
            "- Maximum -\n",
            "\n",
            "All data: \n",
            " id                                   38112762\n",
            "host_id                             288567551\n",
            "host_name                                  ｼﾝ\n",
            "neighbourhood_group               West Region\n",
            "neighbourhood                          Yishun\n",
            "latitude                              1.45459\n",
            "longitude                             103.973\n",
            "room_type                         Shared room\n",
            "price                                   10000\n",
            "minimum_nights                           1000\n",
            "number_of_reviews                         323\n",
            "reviews_per_month                          13\n",
            "calculated_host_listings_count            274\n",
            "availability_365                          365\n",
            "dtype: object\n",
            "\n",
            "\n",
            "- Minimum -\n",
            "\n",
            "All data: \n",
            " id                                                   49091\n",
            "host_id                                              23666\n",
            "host_name                         (Email hidden by Airbnb)\n",
            "neighbourhood_group                         Central Region\n",
            "neighbourhood                                   Ang Mo Kio\n",
            "latitude                                           1.24387\n",
            "longitude                                          103.647\n",
            "room_type                                  Entire home/apt\n",
            "price                                                    0\n",
            "minimum_nights                                           1\n",
            "number_of_reviews                                        0\n",
            "reviews_per_month                                     0.01\n",
            "calculated_host_listings_count                           1\n",
            "availability_365                                         0\n",
            "dtype: object\n"
          ],
          "name": "stdout"
        }
      ]
    },
    {
      "cell_type": "code",
      "metadata": {
        "colab": {
          "base_uri": "https://localhost:8080/"
        },
        "id": "QoMKM1r7xaT4",
        "outputId": "2d8b34e2-c566-4655-bfd5-ffd56ba47f45"
      },
      "source": [
        "#2nd Question\r\n",
        "\r\n",
        "#Deleting Any Row That Containt NaN Value\r\n",
        "droppedData = data.dropna()\r\n",
        "\r\n",
        "#3rd Question\r\n",
        "\r\n",
        "#Replacing NaN value with 0\r\n",
        "filledData = data.fillna(0)\r\n",
        "\r\n",
        "#To Check the Length of the Data\r\n",
        "print(\"Original Length:\", len(data))\r\n",
        "print(\"Dropped Length:\", len(droppedData))\r\n",
        "print(\"Replaced Length:\", len(filledData))"
      ],
      "execution_count": 27,
      "outputs": [
        {
          "output_type": "stream",
          "text": [
            "Original Length: 7907\n",
            "Dropped Length: 5148\n",
            "Replaced Length: 7907\n"
          ],
          "name": "stdout"
        }
      ]
    }
  ]
}