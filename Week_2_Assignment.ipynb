{
  "nbformat": 4,
  "nbformat_minor": 0,
  "metadata": {
    "colab": {
      "name": "Week 2 - Assignment.ipynb",
      "provenance": [],
      "collapsed_sections": [],
      "authorship_tag": "ABX9TyNEhjv7dBtu9R8KqxnEYDwP",
      "include_colab_link": true
    },
    "kernelspec": {
      "name": "python3",
      "display_name": "Python 3"
    }
  },
  "cells": [
    {
      "cell_type": "markdown",
      "metadata": {
        "id": "view-in-github",
        "colab_type": "text"
      },
      "source": [
        "<a href=\"https://colab.research.google.com/github/roberto7781/MachineLearningClass/blob/main/Week_2_Assignment.ipynb\" target=\"_parent\"><img src=\"https://colab.research.google.com/assets/colab-badge.svg\" alt=\"Open In Colab\"/></a>"
      ]
    },
    {
      "cell_type": "code",
      "metadata": {
        "id": "KqaTrx5AozET"
      },
      "source": [
        "#Roberto Oscadinata - 2301853956\r\n",
        "\r\n",
        "import matplotlib.pyplot as plt\r\n",
        "import pandas as pd\r\n",
        "from sklearn import linear_model\r\n",
        "from sklearn.model_selection import train_test_split\r\n",
        "import numpy as np\r\n",
        "import seaborn as sb\r\n",
        "from sklearn.metrics import r2_score, mean_squared_error, mean_absolute_error\r\n",
        "#for data preprocessing\r\n",
        "from sklearn.preprocessing import LabelEncoder\r\n",
        "from sklearn.preprocessing import StandardScaler"
      ],
      "execution_count": 39,
      "outputs": []
    },
    {
      "cell_type": "code",
      "metadata": {
        "colab": {
          "base_uri": "https://localhost:8080/"
        },
        "id": "SYRmivtyo79r",
        "outputId": "b084a503-9795-48d4-f810-858677f140ba"
      },
      "source": [
        "#Importing Data From the CSV File\r\n",
        "\r\n",
        "data = pd.read_csv(\"listings.csv\")\r\n",
        "print(data)"
      ],
      "execution_count": 40,
      "outputs": [
        {
          "output_type": "stream",
          "text": [
            "            id  ... availability_365\n",
            "0        49091  ...              365\n",
            "1        50646  ...              365\n",
            "2        56334  ...              365\n",
            "3        71609  ...              353\n",
            "4        71896  ...              355\n",
            "...        ...  ...              ...\n",
            "7902  38105126  ...               61\n",
            "7903  38108273  ...              365\n",
            "7904  38109336  ...              173\n",
            "7905  38110493  ...               30\n",
            "7906  38112762  ...              365\n",
            "\n",
            "[7907 rows x 16 columns]\n"
          ],
          "name": "stdout"
        }
      ]
    },
    {
      "cell_type": "code",
      "metadata": {
        "colab": {
          "base_uri": "https://localhost:8080/"
        },
        "id": "-HncjW5RpIHS",
        "outputId": "514bf7e2-44bd-464d-8bbb-537bbfcf3f58"
      },
      "source": [
        "#To Check Data Types and Check Whether it Have Any Null Value or Not\r\n",
        "\r\n",
        "print(data.dtypes)\r\n",
        "print(data.isna().values.any())"
      ],
      "execution_count": 41,
      "outputs": [
        {
          "output_type": "stream",
          "text": [
            "id                                  int64\n",
            "name                               object\n",
            "host_id                             int64\n",
            "host_name                          object\n",
            "neighbourhood_group                object\n",
            "neighbourhood                      object\n",
            "latitude                          float64\n",
            "longitude                         float64\n",
            "room_type                          object\n",
            "price                               int64\n",
            "minimum_nights                      int64\n",
            "number_of_reviews                   int64\n",
            "last_review                        object\n",
            "reviews_per_month                 float64\n",
            "calculated_host_listings_count      int64\n",
            "availability_365                    int64\n",
            "dtype: object\n",
            "True\n"
          ],
          "name": "stdout"
        }
      ]
    },
    {
      "cell_type": "code",
      "metadata": {
        "id": "MqghfBey0iH1"
      },
      "source": [
        "#Data Cleanup Because in the Dataset it Stated that Minimum Nights Couldn't be above 365 Days\r\n",
        "data = data[data['minimum_nights']<=365]\r\n"
      ],
      "execution_count": 43,
      "outputs": []
    },
    {
      "cell_type": "code",
      "metadata": {
        "id": "_q6Pmr69rCp_"
      },
      "source": [
        "#Data Cleanup Because there are Null Value in reviews_per_month Column\r\n",
        "data['reviews_per_month'] = data['reviews_per_month'].fillna(0)"
      ],
      "execution_count": 44,
      "outputs": []
    },
    {
      "cell_type": "code",
      "metadata": {
        "id": "nuM8EtmUpzI3"
      },
      "source": [
        "#Converting Categorical Data into Numerical Data\r\n",
        "\r\n",
        "data['room_type'].unique()\r\n",
        "\r\n",
        "mappings={'Entire home/apt':1,'Private room':2,'Shared room':3}\r\n",
        "data['room_type']=data['room_type'].map(mappings)"
      ],
      "execution_count": 45,
      "outputs": []
    },
    {
      "cell_type": "code",
      "metadata": {
        "id": "QryRmbV8u-Ep"
      },
      "source": [
        "#Converting Categorical Data into Numerical Data\r\n",
        "from sklearn.preprocessing import LabelEncoder\r\n",
        "number = LabelEncoder()\r\n",
        "number.fit(data['neighbourhood'])\r\n",
        "data['neighbourhood'] = number.transform(data['neighbourhood'])\r\n",
        "\r\n",
        "number.fit(data['neighbourhood_group'])\r\n",
        "data['neighbourhood_group'] = number.transform(data['neighbourhood_group'])\r\n",
        "\r\n",
        "number.fit(data['room_type'])\r\n",
        "data['room_type'] = number.transform(data['room_type'])"
      ],
      "execution_count": 46,
      "outputs": []
    },
    {
      "cell_type": "code",
      "metadata": {
        "colab": {
          "base_uri": "https://localhost:8080/",
          "height": 975
        },
        "id": "0L3HpLmBqBXG",
        "outputId": "781de7fc-3c69-4d1e-c2d0-91d560fe45e7"
      },
      "source": [
        "#Creating a New Dataframe for Linear Regression\r\n",
        "\r\n",
        "newData = data[[\"room_type\", \"neighbourhood_group\", \"neighbourhood\", \"price\", \"minimum_nights\", \"number_of_reviews\",  \"calculated_host_listings_count\", \"availability_365\", \"reviews_per_month\"]]\r\n",
        "newData.info()\r\n",
        "print(newData.head())\r\n",
        "newData.hist()\r\n",
        "plt.subplots_adjust(hspace = 0.6, wspace = 0.6)\r\n",
        "plt.rcParams[\"figure.figsize\"] = [16,9]\r\n",
        "plt.show()"
      ],
      "execution_count": 47,
      "outputs": [
        {
          "output_type": "stream",
          "text": [
            "<class 'pandas.core.frame.DataFrame'>\n",
            "Int64Index: 7904 entries, 0 to 7906\n",
            "Data columns (total 9 columns):\n",
            " #   Column                          Non-Null Count  Dtype  \n",
            "---  ------                          --------------  -----  \n",
            " 0   room_type                       7904 non-null   int64  \n",
            " 1   neighbourhood_group             7904 non-null   int64  \n",
            " 2   neighbourhood                   7904 non-null   int64  \n",
            " 3   price                           7904 non-null   int64  \n",
            " 4   minimum_nights                  7904 non-null   int64  \n",
            " 5   number_of_reviews               7904 non-null   int64  \n",
            " 6   calculated_host_listings_count  7904 non-null   int64  \n",
            " 7   availability_365                7904 non-null   int64  \n",
            " 8   reviews_per_month               7904 non-null   float64\n",
            "dtypes: float64(1), int64(8)\n",
            "memory usage: 617.5 KB\n",
            "   room_type  neighbourhood_group  ...  availability_365  reviews_per_month\n",
            "0          1                    2  ...               365               0.01\n",
            "1          1                    0  ...               365               0.28\n",
            "2          1                    2  ...               365               0.20\n",
            "3          1                    1  ...               353               0.15\n",
            "4          1                    1  ...               355               0.22\n",
            "\n",
            "[5 rows x 9 columns]\n"
          ],
          "name": "stdout"
        },
        {
          "output_type": "display_data",
          "data": {
            "image/png": "[encoded data removed]",
            "text/plain": [
              "<Figure size 1152x648 with 9 Axes>"
            ]
          },
          "metadata": {
            "tags": [],
            "needs_background": "light"
          }
        }
      ]
    },
    {
      "cell_type": "code",
      "metadata": {
        "colab": {
          "base_uri": "https://localhost:8080/"
        },
        "id": "vwKYOybCLTS-",
        "outputId": "c817b3eb-8da9-4014-8e9a-55c1ec6c7883"
      },
      "source": [
        "#Trainning Our Model\r\n",
        "\r\n",
        "train, test = train_test_split(newData, test_size=0.2)\r\n",
        "regression = linear_model.LinearRegression()\r\n",
        "regression.fit(train[[\"number_of_reviews\", \"minimum_nights\", \"availability_365\", \"price\"]], train[\"reviews_per_month\"])\r\n",
        "print('Coefficients: ', regression.coef_)\r\n",
        "print('Intercept: ',regression.intercept_)"
      ],
      "execution_count": 48,
      "outputs": [
        {
          "output_type": "stream",
          "text": [
            "Coefficients:  [ 2.58176859e-02 -2.79248945e-03 -3.63276841e-04 -6.77016693e-06]\n",
            "Intercept:  0.47801540773652496\n"
          ],
          "name": "stdout"
        }
      ]
    },
    {
      "cell_type": "code",
      "metadata": {
        "colab": {
          "base_uri": "https://localhost:8080/"
        },
        "id": "D2BExGsir-IN",
        "outputId": "dc2c0daa-8375-4568-fabc-7c52c23f13e7"
      },
      "source": [
        "#Printing Out The Score of Our Model\r\n",
        "\r\n",
        "predictions = regression.predict(test[[\"number_of_reviews\",\"minimum_nights\", \"availability_365\", \"price\"]])\r\n",
        "\r\n",
        "print(\"MAE : \", mean_absolute_error(test[[\"reviews_per_month\"]], predictions))\r\n",
        "print(\"MSE : \", mean_squared_error(test[[\"reviews_per_month\"]], predictions))\r\n",
        "print(\"R2 : \", r2_score(test[[\"reviews_per_month\"]], predictions))"
      ],
      "execution_count": 49,
      "outputs": [
        {
          "output_type": "stream",
          "text": [
            "MAE :  0.48783059348655017\n",
            "MSE :  0.6529461657990447\n",
            "R2 :  0.48328529776009765\n"
          ],
          "name": "stdout"
        }
      ]
    }
  ]
}